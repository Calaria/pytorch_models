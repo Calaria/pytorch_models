{
  "nbformat": 4,
  "nbformat_minor": 0,
  "metadata": {
    "colab": {
      "provenance": [],
      "toc_visible": true,
      "gpuType": "T4",
      "authorship_tag": "ABX9TyMwhTYaIF0gFXVi5LXFa8vF",
      "include_colab_link": true
    },
    "kernelspec": {
      "name": "python3",
      "display_name": "Python 3"
    },
    "language_info": {
      "name": "python"
    },
    "accelerator": "GPU"
  },
  "cells": [
    {
      "cell_type": "markdown",
      "metadata": {
        "id": "view-in-github",
        "colab_type": "text"
      },
      "source": [
        "<a href=\"https://colab.research.google.com/github/wenfeng7k/pytorch_models/blob/main/Linear_Regression_exercise.ipynb\" target=\"_parent\"><img src=\"https://colab.research.google.com/assets/colab-badge.svg\" alt=\"Open In Colab\"/></a>"
      ]
    },
    {
      "cell_type": "code",
      "execution_count": 1,
      "metadata": {
        "id": "KF6sNGrhbgE5"
      },
      "outputs": [],
      "source": [
        "import torch\n",
        "import matplotlib.pyplot as plt\n",
        "from torch import nn"
      ]
    },
    {
      "cell_type": "code",
      "source": [
        "device = 'cuda' if torch.cuda.is_available() else 'cpu'\n",
        "print(f\"Using device: {device}\")"
      ],
      "metadata": {
        "colab": {
          "base_uri": "https://localhost:8080/"
        },
        "id": "w7kkstwwb5WO",
        "outputId": "6ce819ed-03f3-4752-c931-55e98f466b5d"
      },
      "execution_count": 2,
      "outputs": [
        {
          "output_type": "stream",
          "name": "stdout",
          "text": [
            "Using device: cuda\n"
          ]
        }
      ]
    },
    {
      "cell_type": "code",
      "source": [
        "weight=0.3\n",
        "bias=0.5\n",
        "X=torch.arange(0,10,0.1).unsqueeze(dim=1)\n",
        "y=weight * X + bias\n",
        "X[:10],y[:10]"
      ],
      "metadata": {
        "colab": {
          "base_uri": "https://localhost:8080/"
        },
        "id": "W3Z8WZVJcI0q",
        "outputId": "50470c51-0dee-4b33-9b23-ec9de4c6aefa"
      },
      "execution_count": 3,
      "outputs": [
        {
          "output_type": "execute_result",
          "data": {
            "text/plain": [
              "(tensor([[0.0000],\n",
              "         [0.1000],\n",
              "         [0.2000],\n",
              "         [0.3000],\n",
              "         [0.4000],\n",
              "         [0.5000],\n",
              "         [0.6000],\n",
              "         [0.7000],\n",
              "         [0.8000],\n",
              "         [0.9000]]),\n",
              " tensor([[0.5000],\n",
              "         [0.5300],\n",
              "         [0.5600],\n",
              "         [0.5900],\n",
              "         [0.6200],\n",
              "         [0.6500],\n",
              "         [0.6800],\n",
              "         [0.7100],\n",
              "         [0.7400],\n",
              "         [0.7700]]))"
            ]
          },
          "metadata": {},
          "execution_count": 3
        }
      ]
    },
    {
      "cell_type": "code",
      "source": [
        "train_split=int(0.8*len(X))\n",
        "X_train,y_train = X[:train_split],y[:train_split]\n",
        "X_test,y_test=X[train_split:],y[train_split:]\n",
        "len(X_train),len(y_train),len(X_test),len(y_test)"
      ],
      "metadata": {
        "colab": {
          "base_uri": "https://localhost:8080/"
        },
        "id": "T1L3aYrkdug9",
        "outputId": "40f2b3d0-37f3-40bf-ae9d-c4417f4d9ad2"
      },
      "execution_count": 4,
      "outputs": [
        {
          "output_type": "execute_result",
          "data": {
            "text/plain": [
              "(80, 80, 20, 20)"
            ]
          },
          "metadata": {},
          "execution_count": 4
        }
      ]
    },
    {
      "cell_type": "code",
      "source": [
        "def plot(train_data=X_train,\n",
        "         train_labels=y_train,\n",
        "         test_data=X_test,\n",
        "         test_labels=y_test,\n",
        "         predictions=None):\n",
        "  plt.figure(figsize=(10,7))\n",
        "  plt.scatter(train_data, train_labels,c='b',s=4,label='Training data')\n",
        "  plt.scatter(test_data, test_labels, c='g',s=4,label='Testing data')\n",
        "  if predictions is not None:\n",
        "    plt.scatter(test_data, predictions,c='r',s=4,label='Predictions')\n",
        "  plt.legend(prop={'size': 14})\n",
        "plot(X_train,y_train,X_test,y_test)"
      ],
      "metadata": {
        "colab": {
          "base_uri": "https://localhost:8080/",
          "height": 599
        },
        "id": "0aJR78OveQC3",
        "outputId": "ee57ac9f-03ff-47a2-a0c9-f447777b99d3"
      },
      "execution_count": 5,
      "outputs": [
        {
          "output_type": "display_data",
          "data": {
            "text/plain": [
              "<Figure size 1000x700 with 1 Axes>"
            ],
            "image/png": "[encoded data removed]"
          },
          "metadata": {}
        }
      ]
    },
    {
      "cell_type": "code",
      "source": [
        "class LinearRegressionModels(nn.Module):\n",
        "  def __init__(self):\n",
        "    super().__init__()\n",
        "    self.linear_layer = nn.Linear(in_features=1,out_features=1)\n",
        "\n",
        "  def forward(self,x:torch.Tensor) ->torch.Tensor:\n",
        "    return self.linear_layer(x)"
      ],
      "metadata": {
        "id": "zvOQTV_Se5pv"
      },
      "execution_count": 6,
      "outputs": []
    },
    {
      "cell_type": "code",
      "source": [
        "torch.manual_seed(42)\n",
        "model_1 = LinearRegressionModels()\n",
        "model_1,model_1.state_dict()"
      ],
      "metadata": {
        "colab": {
          "base_uri": "https://localhost:8080/"
        },
        "id": "xC7LDezrfgxX",
        "outputId": "a9739e96-cb68-4acd-fb37-c1d331d4467e"
      },
      "execution_count": 7,
      "outputs": [
        {
          "output_type": "execute_result",
          "data": {
            "text/plain": [
              "(LinearRegressionModels(\n",
              "   (linear_layer): Linear(in_features=1, out_features=1, bias=True)\n",
              " ),\n",
              " OrderedDict([('linear_layer.weight', tensor([[0.7645]])),\n",
              "              ('linear_layer.bias', tensor([0.8300]))]))"
            ]
          },
          "metadata": {},
          "execution_count": 7
        }
      ]
    },
    {
      "cell_type": "code",
      "source": [
        "model_1.to(device)\n",
        "next(model_1.parameters()).device"
      ],
      "metadata": {
        "colab": {
          "base_uri": "https://localhost:8080/"
        },
        "id": "AwcPVl3jgXeS",
        "outputId": "8b0b7c35-f4e3-4774-e857-1c61b2514052"
      },
      "execution_count": 8,
      "outputs": [
        {
          "output_type": "execute_result",
          "data": {
            "text/plain": [
              "device(type='cuda', index=0)"
            ]
          },
          "metadata": {},
          "execution_count": 8
        }
      ]
    },
    {
      "cell_type": "code",
      "source": [
        "loss_fn=nn.L1Loss()\n",
        "optimizer = torch.optim.SGD(params=model_1.parameters(),\n",
        "                            lr=0.001)"
      ],
      "metadata": {
        "id": "eP8mN5kTgvhz"
      },
      "execution_count": 9,
      "outputs": []
    },
    {
      "cell_type": "code",
      "source": [
        "torch.manual_seed(42)\n",
        "\n",
        "epochs = 1000\n",
        "X_train = X_train.float().to(device)\n",
        "X_test = X_test.float().to(device)\n",
        "y_train = y_train.float().to(device)\n",
        "y_test = y_test.float().to(device)"
      ],
      "metadata": {
        "id": "ChsJ39kfhMUl"
      },
      "execution_count": 10,
      "outputs": []
    },
    {
      "cell_type": "code",
      "source": [
        "for epoch in range(epochs):\n",
        "  model_1.train()\n",
        "\n",
        "  #1.Forward pass\n",
        "  y_pred = model_1(X_train)\n",
        "\n",
        "  #2.Calculate loss\n",
        "  loss = loss_fn(y_pred,y_train)\n",
        "\n",
        "  #3.zero grad optimizer\n",
        "  optimizer.zero_grad()\n",
        "\n",
        "  #4.Loss backward\n",
        "  loss.backward()\n",
        "\n",
        "  #5.Step the optimizer\n",
        "  optimizer.step()\n",
        "\n",
        "  #Testing\n",
        "  model_1.eval()\n",
        "  with torch.inference_mode():\n",
        "    test_pred = model_1(X_test)\n",
        "\n",
        "    test_loss = loss_fn(test_pred, y_test)\n",
        "\n",
        "  if epoch % 100 ==0:\n",
        "    print(f\"Epoch:{epoch} | Train loss :{loss} | Test loss :{test_loss}\")"
      ],
      "metadata": {
        "colab": {
          "base_uri": "https://localhost:8080/"
        },
        "id": "pTb4HdNWiKs0",
        "outputId": "511de6ca-403f-443d-f47c-3a79474d60e8"
      },
      "execution_count": 11,
      "outputs": [
        {
          "output_type": "stream",
          "name": "stdout",
          "text": [
            "Epoch:0 | Train loss :2.1649351119995117 | Test loss :4.451274871826172\n",
            "Epoch:100 | Train loss :0.5046864748001099 | Test loss :0.8160266280174255\n",
            "Epoch:200 | Train loss :0.07247274369001389 | Test loss :0.10342752188444138\n",
            "Epoch:300 | Train loss :0.055552758276462555 | Test loss :0.07949614524841309\n",
            "Epoch:400 | Train loss :0.038632798939943314 | Test loss :0.055564869195222855\n",
            "Epoch:500 | Train loss :0.021712446585297585 | Test loss :0.03163349628448486\n",
            "Epoch:600 | Train loss :0.005535671021789312 | Test loss :0.01340627670288086\n",
            "Epoch:700 | Train loss :0.0033600374590605497 | Test loss :0.0303335078060627\n",
            "Epoch:800 | Train loss :0.003085323376581073 | Test loss :0.03060819022357464\n",
            "Epoch:900 | Train loss :0.003085323376581073 | Test loss :0.03060819022357464\n"
          ]
        }
      ]
    },
    {
      "cell_type": "code",
      "source": [
        "from pprint import pprint\n",
        "pprint(model_1.state_dict())"
      ],
      "metadata": {
        "colab": {
          "base_uri": "https://localhost:8080/"
        },
        "id": "DQA1EE9-lRDy",
        "outputId": "ed83e63b-7114-46ed-bad1-fdca75dfcc89"
      },
      "execution_count": 12,
      "outputs": [
        {
          "output_type": "stream",
          "name": "stdout",
          "text": [
            "OrderedDict([('linear_layer.weight', tensor([[0.3005]], device='cuda:0')),\n",
            "             ('linear_layer.bias', tensor([0.5010], device='cuda:0'))])\n"
          ]
        }
      ]
    },
    {
      "cell_type": "code",
      "source": [
        "model_1.eval()\n",
        "with torch.inference_mode():\n",
        "  y_preds = model_1(X_test)\n",
        "y_preds"
      ],
      "metadata": {
        "colab": {
          "base_uri": "https://localhost:8080/"
        },
        "id": "fNaLl1iRmTMO",
        "outputId": "13e8bbd8-d3e9-494b-eae2-a39708c6d6b5"
      },
      "execution_count": 13,
      "outputs": [
        {
          "output_type": "execute_result",
          "data": {
            "text/plain": [
              "tensor([[2.9052],\n",
              "        [2.9353],\n",
              "        [2.9653],\n",
              "        [2.9954],\n",
              "        [3.0255],\n",
              "        [3.0555],\n",
              "        [3.0856],\n",
              "        [3.1156],\n",
              "        [3.1457],\n",
              "        [3.1757],\n",
              "        [3.2058],\n",
              "        [3.2358],\n",
              "        [3.2659],\n",
              "        [3.2959],\n",
              "        [3.3260],\n",
              "        [3.3560],\n",
              "        [3.3861],\n",
              "        [3.4161],\n",
              "        [3.4462],\n",
              "        [3.4762]], device='cuda:0')"
            ]
          },
          "metadata": {},
          "execution_count": 13
        }
      ]
    },
    {
      "cell_type": "markdown",
      "source": [],
      "metadata": {
        "id": "S3nsREnCrQIR"
      }
    },
    {
      "cell_type": "code",
      "source": [
        "plot(predictions=y_preds.cpu())"
      ],
      "metadata": {
        "colab": {
          "base_uri": "https://localhost:8080/",
          "height": 599
        },
        "id": "MXu2xRrkmOCC",
        "outputId": "8d6a21b9-639e-4a9f-e2d4-1b403ba6fef8"
      },
      "execution_count": 14,
      "outputs": [
        {
          "output_type": "display_data",
          "data": {
            "text/plain": [
              "<Figure size 1000x700 with 1 Axes>"
            ],
            "image/png": "[encoded data removed]"
          },
          "metadata": {}
        }
      ]
    },
    {
      "cell_type": "code",
      "source": [
        "from pathlib import Path\n",
        "MODEL_PATH = Path(\"models\")\n",
        "MODEL_PATH.mkdir(parents=True,exist_ok=True)\n",
        "\n",
        "MODEL_NAME=\"model_1.pth\"\n",
        "MODEL_SAVE_PATH = MODEL_PATH /MODEL_NAME\n",
        "\n",
        "print(f\"Saving model to :{MODEL_SAVE_PATH}\")\n",
        "torch.save(obj=model_1.state_dict(),\n",
        "           f=MODEL_SAVE_PATH)"
      ],
      "metadata": {
        "colab": {
          "base_uri": "https://localhost:8080/"
        },
        "id": "xjhVErUWzn_1",
        "outputId": "3a4343f1-23df-40d7-aaf1-2ddfd77ceecf"
      },
      "execution_count": 19,
      "outputs": [
        {
          "output_type": "stream",
          "name": "stdout",
          "text": [
            "Saving model to :models/model_1.pth\n"
          ]
        }
      ]
    },
    {
      "cell_type": "code",
      "source": [
        "loaded_model_1=LinearRegressionModels()\n",
        "\n",
        "loaded_model_1.load_state_dict(torch.load(MODEL_SAVE_PATH))\n",
        "\n",
        "loaded_model_1.to(device)\n",
        "print(f\"Loaded model:\\n{loaded_model_1}\")\n",
        "print(f\"Model on device:\\n{next(loaded_model_1.parameters()).device}\")\n"
      ],
      "metadata": {
        "colab": {
          "base_uri": "https://localhost:8080/"
        },
        "id": "MsRhMxwp1n20",
        "outputId": "a2736149-ae60-4743-bd5c-1bfec8887d34"
      },
      "execution_count": 20,
      "outputs": [
        {
          "output_type": "stream",
          "name": "stdout",
          "text": [
            "Loaded model:\n",
            "LinearRegressionModels(\n",
            "  (linear_layer): Linear(in_features=1, out_features=1, bias=True)\n",
            ")\n",
            "Model on device:\n",
            "cuda:0\n"
          ]
        }
      ]
    },
    {
      "cell_type": "code",
      "source": [
        "loaded_model_1.eval()\n",
        "with torch.inference_mode():\n",
        "  loaded_model_1_preds = loaded_model_1(X_test)\n",
        "y_preds == loaded_model_1_preds"
      ],
      "metadata": {
        "colab": {
          "base_uri": "https://localhost:8080/"
        },
        "id": "pSaW8qYq2Tx0",
        "outputId": "2728cbb9-0309-4842-f296-ce189221bc3b"
      },
      "execution_count": 21,
      "outputs": [
        {
          "output_type": "execute_result",
          "data": {
            "text/plain": [
              "tensor([[True],\n",
              "        [True],\n",
              "        [True],\n",
              "        [True],\n",
              "        [True],\n",
              "        [True],\n",
              "        [True],\n",
              "        [True],\n",
              "        [True],\n",
              "        [True],\n",
              "        [True],\n",
              "        [True],\n",
              "        [True],\n",
              "        [True],\n",
              "        [True],\n",
              "        [True],\n",
              "        [True],\n",
              "        [True],\n",
              "        [True],\n",
              "        [True]], device='cuda:0')"
            ]
          },
          "metadata": {},
          "execution_count": 21
        }
      ]
    }
  ]
}
